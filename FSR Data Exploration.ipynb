{
 "cells": [
  {
   "cell_type": "code",
   "execution_count": 2,
   "metadata": {},
   "outputs": [],
   "source": [
    "import matplotlib.pyplot as plt\n",
    "import numpy as np\n",
    "import pandas as pd\n",
    "%matplotlib inline"
   ]
  },
  {
   "cell_type": "code",
   "execution_count": 3,
   "metadata": {},
   "outputs": [],
   "source": [
    "data = pd.read_csv('fsrdataset.csv')"
   ]
  },
  {
   "cell_type": "code",
   "execution_count": 4,
   "metadata": {},
   "outputs": [
    {
     "data": {
      "text/html": [
       "<div>\n",
       "<style scoped>\n",
       "    .dataframe tbody tr th:only-of-type {\n",
       "        vertical-align: middle;\n",
       "    }\n",
       "\n",
       "    .dataframe tbody tr th {\n",
       "        vertical-align: top;\n",
       "    }\n",
       "\n",
       "    .dataframe thead th {\n",
       "        text-align: right;\n",
       "    }\n",
       "</style>\n",
       "<table border=\"1\" class=\"dataframe\">\n",
       "  <thead>\n",
       "    <tr style=\"text-align: right;\">\n",
       "      <th></th>\n",
       "      <th>UID</th>\n",
       "      <th>Insurance Name</th>\n",
       "      <th>IN vs OON</th>\n",
       "      <th>LOC</th>\n",
       "      <th>Month DOS</th>\n",
       "      <th>Location</th>\n",
       "      <th>DOS</th>\n",
       "      <th>Orig Mo Billed</th>\n",
       "      <th>Units</th>\n",
       "      <th>IN Billed</th>\n",
       "      <th>...</th>\n",
       "      <th>Days Past Due</th>\n",
       "      <th>Age: 1-30</th>\n",
       "      <th>Age: 31-60</th>\n",
       "      <th>Age: 61-90</th>\n",
       "      <th>Age: 91+</th>\n",
       "      <th>Date Paid</th>\n",
       "      <th>Q1: Jan-Mar</th>\n",
       "      <th>Q2: Apr-Jun</th>\n",
       "      <th>Q3: Jul-Sep</th>\n",
       "      <th>Days Outstanding</th>\n",
       "    </tr>\n",
       "  </thead>\n",
       "  <tbody>\n",
       "    <tr>\n",
       "      <th>0</th>\n",
       "      <td>#REF!</td>\n",
       "      <td>BC/Advantek</td>\n",
       "      <td>IN</td>\n",
       "      <td>Detox</td>\n",
       "      <td>7/31/19</td>\n",
       "      <td>21877 / 22051</td>\n",
       "      <td>7/30-7/31/19</td>\n",
       "      <td>August</td>\n",
       "      <td>2</td>\n",
       "      <td>$2,400.00</td>\n",
       "      <td>...</td>\n",
       "      <td>27</td>\n",
       "      <td>$2,400.00</td>\n",
       "      <td>NaN</td>\n",
       "      <td>NaN</td>\n",
       "      <td>NaN</td>\n",
       "      <td>NaN</td>\n",
       "      <td>NaN</td>\n",
       "      <td>NaN</td>\n",
       "      <td>NaN</td>\n",
       "      <td>-31204</td>\n",
       "    </tr>\n",
       "    <tr>\n",
       "      <th>1</th>\n",
       "      <td>#REF!</td>\n",
       "      <td>BC/Advantek</td>\n",
       "      <td>IN</td>\n",
       "      <td>IOP</td>\n",
       "      <td>7/31/19</td>\n",
       "      <td>2121 / 22051</td>\n",
       "      <td>7/9/19</td>\n",
       "      <td>July</td>\n",
       "      <td>1</td>\n",
       "      <td>$300.00</td>\n",
       "      <td>...</td>\n",
       "      <td>0</td>\n",
       "      <td>NaN</td>\n",
       "      <td>$ -</td>\n",
       "      <td>NaN</td>\n",
       "      <td>NaN</td>\n",
       "      <td>7/31/19</td>\n",
       "      <td>$ -</td>\n",
       "      <td>$ -</td>\n",
       "      <td>$280.00</td>\n",
       "      <td>12</td>\n",
       "    </tr>\n",
       "    <tr>\n",
       "      <th>2</th>\n",
       "      <td>#REF!</td>\n",
       "      <td>BC/Advantek</td>\n",
       "      <td>IN</td>\n",
       "      <td>IOP</td>\n",
       "      <td>7/31/19</td>\n",
       "      <td>2121 / 22051</td>\n",
       "      <td>7/1-7/5/19</td>\n",
       "      <td>July</td>\n",
       "      <td>4</td>\n",
       "      <td>$1,200.00</td>\n",
       "      <td>...</td>\n",
       "      <td>0</td>\n",
       "      <td>NaN</td>\n",
       "      <td>$ -</td>\n",
       "      <td>NaN</td>\n",
       "      <td>NaN</td>\n",
       "      <td>7/24/19</td>\n",
       "      <td>$ -</td>\n",
       "      <td>$ -</td>\n",
       "      <td>$1,120.00</td>\n",
       "      <td>12</td>\n",
       "    </tr>\n",
       "    <tr>\n",
       "      <th>3</th>\n",
       "      <td>#REF!</td>\n",
       "      <td>Kaiser</td>\n",
       "      <td>IN</td>\n",
       "      <td>RTC</td>\n",
       "      <td>7/31/19</td>\n",
       "      <td>22051</td>\n",
       "      <td>7/6-7/9/19</td>\n",
       "      <td>July</td>\n",
       "      <td>4</td>\n",
       "      <td>$3,040.00</td>\n",
       "      <td>...</td>\n",
       "      <td>0</td>\n",
       "      <td>NaN</td>\n",
       "      <td>$ -</td>\n",
       "      <td>NaN</td>\n",
       "      <td>NaN</td>\n",
       "      <td>8/1/19</td>\n",
       "      <td>$ -</td>\n",
       "      <td>$ -</td>\n",
       "      <td>$3,040.00</td>\n",
       "      <td>13</td>\n",
       "    </tr>\n",
       "    <tr>\n",
       "      <th>4</th>\n",
       "      <td>#REF!</td>\n",
       "      <td>Kaiser</td>\n",
       "      <td>IN</td>\n",
       "      <td>RTC</td>\n",
       "      <td>7/31/19</td>\n",
       "      <td>22051</td>\n",
       "      <td>7/1-7/5/19</td>\n",
       "      <td>July</td>\n",
       "      <td>5</td>\n",
       "      <td>$3,800.00</td>\n",
       "      <td>...</td>\n",
       "      <td>0</td>\n",
       "      <td>NaN</td>\n",
       "      <td>$ -</td>\n",
       "      <td>NaN</td>\n",
       "      <td>NaN</td>\n",
       "      <td>7/26/19</td>\n",
       "      <td>$ -</td>\n",
       "      <td>$ -</td>\n",
       "      <td>$3,800.00</td>\n",
       "      <td>14</td>\n",
       "    </tr>\n",
       "  </tbody>\n",
       "</table>\n",
       "<p>5 rows × 36 columns</p>\n",
       "</div>"
      ],
      "text/plain": [
       "     UID Insurance Name IN vs OON    LOC Month DOS       Location  \\\n",
       "0  #REF!    BC/Advantek        IN  Detox   7/31/19  21877 / 22051   \n",
       "1  #REF!    BC/Advantek        IN    IOP   7/31/19   2121 / 22051   \n",
       "2  #REF!    BC/Advantek        IN    IOP   7/31/19   2121 / 22051   \n",
       "3  #REF!         Kaiser        IN    RTC   7/31/19          22051   \n",
       "4  #REF!         Kaiser        IN    RTC   7/31/19          22051   \n",
       "\n",
       "            DOS Orig Mo Billed  Units   IN Billed  ... Days Past Due  \\\n",
       "0  7/30-7/31/19         August      2  $2,400.00   ...            27   \n",
       "1        7/9/19           July      1    $300.00   ...             0   \n",
       "2    7/1-7/5/19           July      4  $1,200.00   ...             0   \n",
       "3    7/6-7/9/19           July      4  $3,040.00   ...             0   \n",
       "4    7/1-7/5/19           July      5  $3,800.00   ...             0   \n",
       "\n",
       "    Age: 1-30 Age: 31-60 Age: 61-90 Age: 91+ Date Paid Q1: Jan-Mar  \\\n",
       "0  $2,400.00         NaN        NaN      NaN       NaN         NaN   \n",
       "1         NaN        $ -        NaN      NaN   7/31/19         $ -   \n",
       "2         NaN        $ -        NaN      NaN   7/24/19         $ -   \n",
       "3         NaN        $ -        NaN      NaN    8/1/19         $ -   \n",
       "4         NaN        $ -        NaN      NaN   7/26/19         $ -   \n",
       "\n",
       "  Q2: Apr-Jun Q3: Jul-Sep Days Outstanding  \n",
       "0         NaN         NaN           -31204  \n",
       "1         $ -    $280.00                12  \n",
       "2         $ -  $1,120.00                12  \n",
       "3         $ -  $3,040.00                13  \n",
       "4         $ -  $3,800.00                14  \n",
       "\n",
       "[5 rows x 36 columns]"
      ]
     },
     "execution_count": 4,
     "metadata": {},
     "output_type": "execute_result"
    }
   ],
   "source": [
    "data.head()"
   ]
  },
  {
   "cell_type": "code",
   "execution_count": 5,
   "metadata": {},
   "outputs": [
    {
     "data": {
      "text/plain": [
       "Index(['UID', 'Insurance Name', 'IN vs OON', 'LOC', 'Month DOS', 'Location',\n",
       "       'DOS', 'Orig Mo Billed', 'Units', 'IN Billed', 'IN Contract Due',\n",
       "       'OON Billed', 'Date Billed', 'IN Ins Pmnt', 'IN MOOP', 'OON Ins Pmnt',\n",
       "       'OON MOOP', 'MOOP', 'Allowed', 'Bal Bill', 'Med Rec in Appeal',\n",
       "       'Med Rec Appeal Loss', 'Balance', 'Per Diem Rate', 'OON % Paid',\n",
       "       '% Paid', 'Days Past Due', 'Age: 1-30', 'Age: 31-60', 'Age: 61-90',\n",
       "       'Age: 91+', 'Date Paid', 'Q1: Jan-Mar', 'Q2: Apr-Jun', 'Q3: Jul-Sep',\n",
       "       'Days Outstanding'],\n",
       "      dtype='object')"
      ]
     },
     "execution_count": 5,
     "metadata": {},
     "output_type": "execute_result"
    }
   ],
   "source": [
    "data.columns"
   ]
  },
  {
   "cell_type": "code",
   "execution_count": 6,
   "metadata": {},
   "outputs": [],
   "source": [
    "units_by_month = data.groupby(['Month DOS'])['Units'].sum()"
   ]
  },
  {
   "cell_type": "code",
   "execution_count": 7,
   "metadata": {},
   "outputs": [
    {
     "data": {
      "image/png": "[encoded data removed]",
      "text/plain": [
       "<Figure size 432x288 with 1 Axes>"
      ]
     },
     "metadata": {
      "needs_background": "light"
     },
     "output_type": "display_data"
    }
   ],
   "source": [
    "plt.plot(units_by_month)\n",
    "plt.ylabel('Units Billed')\n",
    "plt.xlabel('Month')\n",
    "plt.title('Days of Service by Month')\n",
    "plt.show()"
   ]
  },
  {
   "cell_type": "markdown",
   "metadata": {},
   "source": [
    "This graph shows that volume of services have been increasing steadily throughout 2019. The explaination for the low volume of services rendered in the month of January 2019 was due to lack of data available for that particular month"
   ]
  },
  {
   "cell_type": "code",
   "execution_count": 20,
   "metadata": {},
   "outputs": [
    {
     "data": {
      "image/png": "[encoded data removed]",
      "text/plain": [
       "<Figure size 432x288 with 1 Axes>"
      ]
     },
     "metadata": {
      "needs_background": "light"
     },
     "output_type": "display_data"
    }
   ],
   "source": [
    "y = data['Days Outstanding']\n",
    "\n",
    "filter = y>0\n",
    "\n",
    "plt.hist(y[filter], bins=30)\n",
    "plt.title('Distribution of Days Outstanding')\n",
    "plt.xlabel('Number of Days Outstanding')\n",
    "plt.ylabel('Count of Claims')\n",
    "plt.show()"
   ]
  },
  {
   "cell_type": "markdown",
   "metadata": {},
   "source": [
    "This visualisation shows that the number of days an insurance claim is outstanding is not normally distributed. A large number of claims pay within 5 days, there is another grouping of claims that pays around 12-15 days. A more informational viz of this data might be a box plot."
   ]
  },
  {
   "cell_type": "code",
   "execution_count": 22,
   "metadata": {},
   "outputs": [
    {
     "data": {
      "image/png": "[encoded data removed]",
      "text/plain": [
       "<Figure size 432x288 with 1 Axes>"
      ]
     },
     "metadata": {
      "needs_background": "light"
     },
     "output_type": "display_data"
    }
   ],
   "source": [
    "y = data['Days Outstanding']\n",
    "\n",
    "filter = y>0\n",
    "\n",
    "plt.boxplot(y[filter])\n",
    "plt.xlabel('Number of Days Outstanding')\n",
    "plt.\n",
    "plt.show()"
   ]
  },
  {
   "cell_type": "markdown",
   "metadata": {},
   "source": [
    "This box plot shows that the median number of days a claim is outstanding is around 12 days. There are several outliers above the 40 day mark which might be explained by claims that were returned for incomplete data or the claim was sent to medical record review. However, it appears that if a claim is submitted to an insurance carrier there is a high probability that it will be paid within 40 days."
   ]
  },
  {
   "cell_type": "code",
   "execution_count": 66,
   "metadata": {},
   "outputs": [],
   "source": [
    "#pct_balance = data.groupby(['Insurance Name'])['Balance'].sum()\n",
    "Total = data['Units'].sum()"
   ]
  },
  {
   "cell_type": "code",
   "execution_count": 67,
   "metadata": {
    "scrolled": true
   },
   "outputs": [
    {
     "data": {
      "text/plain": [
       "<BarContainer object of 862 artists>"
      ]
     },
     "execution_count": 67,
     "metadata": {},
     "output_type": "execute_result"
    },
    {
     "data": {
      "image/png": "[encoded data removed]",
      "text/plain": [
       "<Figure size 720x360 with 2 Axes>"
      ]
     },
     "metadata": {
      "needs_background": "light"
     },
     "output_type": "display_data"
    }
   ],
   "source": [
    "units_by_month = data.groupby(['Month DOS'])['Units'].sum()\n",
    "insurance_by_month = data.groupby(['Insurance Name'])['Units'].sum()\n",
    "\n",
    "plt.figure(figsize=(10,5))\n",
    "\n",
    "plt.subplot(1,2,1)\n",
    "plt.plot(units_by_month)\n",
    "\n",
    "plt.subplot(1,2,2)\n",
    "plt.bar(data['Insurance Name'], Total)"
   ]
  },
  {
   "cell_type": "code",
   "execution_count": 73,
   "metadata": {},
   "outputs": [
    {
     "data": {
      "image/png": "[encoded data removed]",
      "text/plain": [
       "<Figure size 1080x576 with 2 Axes>"
      ]
     },
     "metadata": {
      "needs_background": "light"
     },
     "output_type": "display_data"
    }
   ],
   "source": [
    "units_by_month = data.groupby(['Month DOS'])['Units'].sum()\n",
    "insurance_by_month = data.groupby(['Insurance Name'])['Units'].sum()\n",
    "\n",
    "plt.figure(figsize=(15,8))\n",
    "\n",
    "plt.subplot(1,2,1)\n",
    "plt.plot(units_by_month)\n",
    "\n",
    "plt.subplot(1,2,2)\n",
    "plt.scatter(x= data['Days Past Due'], y= data['Units'])\n",
    "plt.show()"
   ]
  },
  {
   "cell_type": "code",
   "execution_count": 61,
   "metadata": {},
   "outputs": [
    {
     "name": "stdout",
     "output_type": "stream",
     "text": [
      "<class 'pandas.core.frame.DataFrame'>\n",
      "RangeIndex: 862 entries, 0 to 861\n",
      "Data columns (total 36 columns):\n",
      "UID                    862 non-null object\n",
      "Insurance Name         862 non-null object\n",
      "IN vs OON              862 non-null object\n",
      "LOC                    862 non-null object\n",
      "Month DOS              862 non-null object\n",
      "Location               862 non-null object\n",
      "DOS                    862 non-null object\n",
      "Orig Mo Billed         862 non-null object\n",
      "Units                  862 non-null int64\n",
      "IN Billed              862 non-null object\n",
      "IN Contract Due        862 non-null object\n",
      "OON Billed             862 non-null object\n",
      "Date Billed            862 non-null object\n",
      "IN Ins Pmnt            805 non-null object\n",
      "IN MOOP                797 non-null object\n",
      "OON Ins Pmnt           801 non-null object\n",
      "OON MOOP               801 non-null object\n",
      "MOOP                   862 non-null object\n",
      "Allowed                862 non-null object\n",
      "Bal Bill               806 non-null object\n",
      "Med Rec in Appeal      807 non-null object\n",
      "Med Rec Appeal Loss    803 non-null object\n",
      "Balance                862 non-null object\n",
      "Per Diem Rate          862 non-null object\n",
      "OON % Paid             862 non-null object\n",
      "% Paid                 862 non-null object\n",
      "Days Past Due          862 non-null int64\n",
      "Age: 1-30              57 non-null object\n",
      "Age: 31-60             124 non-null object\n",
      "Age: 61-90             154 non-null object\n",
      "Age: 91+               527 non-null object\n",
      "Date Paid              805 non-null object\n",
      "Q1: Jan-Mar            805 non-null object\n",
      "Q2: Apr-Jun            805 non-null object\n",
      "Q3: Jul-Sep            805 non-null object\n",
      "Days Outstanding       862 non-null int64\n",
      "dtypes: int64(3), object(33)\n",
      "memory usage: 242.5+ KB\n"
     ]
    }
   ],
   "source": [
    "data.info()"
   ]
  },
  {
   "cell_type": "code",
   "execution_count": null,
   "metadata": {},
   "outputs": [],
   "source": [
    "# Balances were non-null object type - xls vs. csv?\n",
    "# "
   ]
  }
 ],
 "metadata": {
  "kernelspec": {
   "display_name": "Python 3",
   "language": "python",
   "name": "python3"
  },
  "language_info": {
   "codemirror_mode": {
    "name": "ipython",
    "version": 3
   },
   "file_extension": ".py",
   "mimetype": "text/x-python",
   "name": "python",
   "nbconvert_exporter": "python",
   "pygments_lexer": "ipython3",
   "version": "3.7.3"
  }
 },
 "nbformat": 4,
 "nbformat_minor": 2
}
