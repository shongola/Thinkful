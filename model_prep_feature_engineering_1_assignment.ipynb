{
 "cells": [
  {
   "cell_type": "markdown",
   "metadata": {},
   "source": [
    "## Assignment\n",
    "\n",
    "In this assignment, you'll continue working with the Students Performance in Exams dataset from Kaggle. You should access the data from the Thinkful database. Here's the credentials you can use to connect to the database:\n",
    "\n",
    "postgres_user = 'dsbc_student'<br>\n",
    "postgres_pw = '7\\*.8G9QH21'<br>\n",
    "postgres_host = '142.93.121.174'<br>\n",
    "postgres_port = '5432'<br>\n",
    "postgres_db = 'studentsperformance'<br>\n",
    "\n",
    "To complete this assignment, submit a link to a Jupyter notebook containing your solutions to the following tasks:\n",
    "\n",
    "1. Are the exam score variables normally distributed? If not, apply a Box-Cox transformation. Does anything change?\n",
    "2. Say we want to use a single variable for the exam scores as our target. For this purpose, create a new variable by taking a weighted average of the exam scores. Check whether this new variable is normally distributed. If it's not normally distributed, apply a Box-Cox transformation and check whether or not the transformed variable is normally distributed.\n",
    "3. Which variables seem related to the target variable (the newly created variable in the previous question)? If our goal is to explain the determinants of success in exams, which variables in our dataset might be useful?\n",
    "\n",
    "Submit your work below, and plan on discussing with your mentor. You can also take a look at these [example solutions](https://github.com/Thinkful-Ed/data-201-assignment-solutions/blob/master/model_prep_feature_engineering_1/solution.ipynb)."
   ]
  },
  {
   "cell_type": "code",
   "execution_count": 24,
   "metadata": {},
   "outputs": [],
   "source": [
    "import matplotlib.pyplot as plt\n",
    "import seaborn as sns\n",
    "import numpy as np\n",
    "import pandas as pd\n",
    "import seaborn as sns\n",
    "import scipy.stats as stats\n",
    "from scipy.stats.mstats import winsorize\n",
    "from sqlalchemy import create_engine\n",
    "import warnings\n",
    "\n",
    "warnings.filterwarnings('ignore')"
   ]
  },
  {
   "cell_type": "code",
   "execution_count": 25,
   "metadata": {},
   "outputs": [],
   "source": [
    "postgres_user = 'dsbc_student'\n",
    "postgres_pw = '7*.8G9QH21'\n",
    "postgres_host = '142.93.121.174'\n",
    "postgres_port = '5432'\n",
    "postgres_db = 'studentsperformance'\n",
    "\n",
    "engine = create_engine('postgresql://{}:{}@{}:{}/{}'.format(\n",
    "    postgres_user, postgres_pw, postgres_host, postgres_port, postgres_db))\n",
    "\n",
    "student_df = pd.read_sql_query('select * from studentsperformance',con=engine)\n",
    "\n",
    "# no need for an open connection, \n",
    "# as we're only doing a single query\n",
    "engine.dispose()"
   ]
  },
  {
   "cell_type": "code",
   "execution_count": 26,
   "metadata": {},
   "outputs": [
    {
     "name": "stdout",
     "output_type": "stream",
     "text": [
      "<class 'pandas.core.frame.DataFrame'>\n",
      "RangeIndex: 1000 entries, 0 to 999\n",
      "Data columns (total 8 columns):\n",
      "gender                         1000 non-null object\n",
      "race/ethnicity                 1000 non-null object\n",
      "parental level of education    1000 non-null object\n",
      "lunch                          1000 non-null object\n",
      "test preparation course        1000 non-null object\n",
      "math score                     1000 non-null int64\n",
      "reading score                  1000 non-null int64\n",
      "writing score                  1000 non-null int64\n",
      "dtypes: int64(3), object(5)\n",
      "memory usage: 62.6+ KB\n"
     ]
    }
   ],
   "source": [
    "student_df.info()"
   ]
  },
  {
   "cell_type": "markdown",
   "metadata": {},
   "source": [
    "Are the exam score variables normally distributed? If not, apply a Box-Cox transformation. Does anything change?"
   ]
  },
  {
   "cell_type": "code",
   "execution_count": 27,
   "metadata": {},
   "outputs": [
    {
     "data": {
      "image/png": "[encoded data removed]",
      "text/plain": [
       "<Figure size 1080x360 with 3 Axes>"
      ]
     },
     "metadata": {
      "needs_background": "light"
     },
     "output_type": "display_data"
    }
   ],
   "source": [
    "# plot distribution of exam scores\n",
    "plt.figure(figsize=(15,5))\n",
    "\n",
    "plt.subplot(1,3,1)\n",
    "plt.hist(student_df['math score'])\n",
    "plt.title('Histogram of Math Score')\n",
    "\n",
    "plt.subplot(1,3,2)\n",
    "plt.hist(student_df['reading score'])\n",
    "plt.title('Histogram of Reading Score')\n",
    "\n",
    "plt.subplot(1,3,3)\n",
    "plt.hist(student_df['writing score'])\n",
    "plt.title('Histogram of Writing Score')\n",
    "\n",
    "plt.show()"
   ]
  },
  {
   "cell_type": "code",
   "execution_count": 28,
   "metadata": {},
   "outputs": [
    {
     "name": "stdout",
     "output_type": "stream",
     "text": [
      "Jarque-Bera test statistics is nan and p value is nan\n",
      "Normality test statistics is nan and p value is nan\n",
      "Jarque-Bera test statistics is 495.1273179446674 and p value is 0.0\n",
      "Normality test statistics is 209.7715093472919 and p value is 2.8099300901335873e-46\n",
      "Jarque-Bera test statistics is 1410.937006925743 and p value is 0.0\n",
      "Normality test statistics is 318.9692123027676 and p value is 5.454005856377552e-70\n"
     ]
    }
   ],
   "source": [
    "from scipy.stats import jarque_bera\n",
    "from scipy.stats import normaltest\n",
    "\n",
    "jb_stats = jarque_bera(np.log(student_df['math score']))\n",
    "norm_stats = normaltest(np.log(student_df['math score']))\n",
    "\n",
    "print(\"Jarque-Bera test statistics is {0} and p value is {1}\".format(jb_stats[0], jb_stats[1]))\n",
    "print(\"Normality test statistics is {0} and p value is {1}\".format(norm_stats[0], norm_stats[1]))\n",
    "\n",
    "jb_stats = jarque_bera(np.log(student_df['reading score']))\n",
    "norm_stats = normaltest(np.log(student_df['reading score']))\n",
    "\n",
    "print(\"Jarque-Bera test statistics is {0} and p value is {1}\".format(jb_stats[0], jb_stats[1]))\n",
    "print(\"Normality test statistics is {0} and p value is {1}\".format(norm_stats[0], norm_stats[1]))\n",
    "\n",
    "jb_stats = jarque_bera(np.log(student_df['writing score']))\n",
    "norm_stats = normaltest(np.log(student_df['writing score']))\n",
    "\n",
    "print(\"Jarque-Bera test statistics is {0} and p value is {1}\".format(jb_stats[0], jb_stats[1]))\n",
    "print(\"Normality test statistics is {0} and p value is {1}\".format(norm_stats[0], norm_stats[1]))"
   ]
  },
  {
   "cell_type": "code",
   "execution_count": 29,
   "metadata": {},
   "outputs": [],
   "source": [
    "# replace 0 value in math score\n",
    "student_df[\"math score\"].replace(0, 1, inplace=True)"
   ]
  },
  {
   "cell_type": "code",
   "execution_count": 30,
   "metadata": {},
   "outputs": [
    {
     "name": "stdout",
     "output_type": "stream",
     "text": [
      "1\n",
      "17\n",
      "10\n"
     ]
    }
   ],
   "source": [
    "print(student_df['math score'].min())\n",
    "print(student_df['reading score'].min())\n",
    "print(student_df['writing score'].min())"
   ]
  },
  {
   "cell_type": "code",
   "execution_count": 31,
   "metadata": {},
   "outputs": [
    {
     "data": {
      "image/png": "[encoded data removed]",
      "text/plain": [
       "<Figure size 1296x360 with 3 Axes>"
      ]
     },
     "metadata": {
      "needs_background": "light"
     },
     "output_type": "display_data"
    }
   ],
   "source": [
    "from scipy.stats import boxcox\n",
    "\n",
    "math_score_boxcox,_ = boxcox(student_df['math score'])\n",
    "reading_score_boxcox,_ = boxcox(student_df['reading score'])\n",
    "writing_score_boxcox,_ = boxcox(student_df['writing score'])\n",
    "\n",
    "plt.figure(figsize=(18,5))\n",
    "\n",
    "# histograms of the box-cox transformed data\n",
    "plt.subplot(1, 3, 1)\n",
    "plt.hist(math_score_boxcox)\n",
    "plt.title(\"histogram of math score (box-cox transformed)\")\n",
    "\n",
    "plt.subplot(1, 3, 2)\n",
    "plt.hist(reading_score_boxcox)\n",
    "plt.title(\"histogram of reading score (box-cox transformed)\")\n",
    "\n",
    "plt.subplot(1, 3, 3)\n",
    "plt.hist(writing_score_boxcox)\n",
    "plt.title(\"histogram of writing score (box-cox transformed)\")\n",
    "\n",
    "plt.show()"
   ]
  },
  {
   "cell_type": "code",
   "execution_count": 23,
   "metadata": {},
   "outputs": [
    {
     "name": "stdout",
     "output_type": "stream",
     "text": [
      "Jarque-Bera test statistics is 88453.34560096625 and p value is 0.0\n",
      "Normality test statistics is 943.2832064280929 and p value is 1.4745322925815238e-205\n",
      "Jarque-Bera test statistics is 495.1273179446674 and p value is 0.0\n",
      "Normality test statistics is 209.7715093472919 and p value is 2.8099300901335873e-46\n",
      "Jarque-Bera test statistics is 1410.937006925743 and p value is 0.0\n",
      "Normality test statistics is 318.9692123027676 and p value is 5.454005856377552e-70\n"
     ]
    }
   ],
   "source": [
    "from scipy.stats import jarque_bera\n",
    "from scipy.stats import normaltest\n",
    "\n",
    "jb_stats = jarque_bera(np.log(student_df['math score']))\n",
    "norm_stats = normaltest(np.log(student_df['math score']))\n",
    "\n",
    "print(\"Jarque-Bera test statistics is {0} and p value is {1}\".format(jb_stats[0], jb_stats[1]))\n",
    "print(\"Normality test statistics is {0} and p value is {1}\".format(norm_stats[0], norm_stats[1]))\n",
    "\n",
    "jb_stats = jarque_bera(np.log(student_df['reading score']))\n",
    "norm_stats = normaltest(np.log(student_df['reading score']))\n",
    "\n",
    "print(\"Jarque-Bera test statistics is {0} and p value is {1}\".format(jb_stats[0], jb_stats[1]))\n",
    "print(\"Normality test statistics is {0} and p value is {1}\".format(norm_stats[0], norm_stats[1]))\n",
    "\n",
    "jb_stats = jarque_bera(np.log(student_df['writing score']))\n",
    "norm_stats = normaltest(np.log(student_df['writing score']))\n",
    "\n",
    "print(\"Jarque-Bera test statistics is {0} and p value is {1}\".format(jb_stats[0], jb_stats[1]))\n",
    "print(\"Normality test statistics is {0} and p value is {1}\".format(norm_stats[0], norm_stats[1]))"
   ]
  },
  {
   "cell_type": "markdown",
   "metadata": {},
   "source": [
    "They are not distributed normally. Jarque-Bera and Normal tests also confirm this:"
   ]
  },
  {
   "cell_type": "code",
   "execution_count": 52,
   "metadata": {},
   "outputs": [
    {
     "name": "stdout",
     "output_type": "stream",
     "text": [
      "Jarque-Bera test statistics is 0.9589875596660145 and p value is 0.6190967117358159\n",
      "Normality test statistics is 0.9034198455639313 and p value is 0.636538788347859\n",
      "Jarque-Bera test statistics is 4.119778575331906 and p value is 0.1274680814024559\n",
      "Normality test statistics is 5.282274611852865 and p value is 0.07128015609575467\n",
      "Jarque-Bera test statistics is 4.746478090040098 and p value is 0.09317842784055597\n",
      "Normality test statistics is 6.267311355043339 and p value is 0.04355827085023795\n"
     ]
    }
   ],
   "source": [
    "\n",
    "jb_stats = jarque_bera(math_score_boxcox)\n",
    "norm_stats = normaltest(math_score_boxcox)\n",
    "\n",
    "print(\"Jarque-Bera test statistics is {0} and p value is {1}\".format(jb_stats[0], jb_stats[1]))\n",
    "print(\"Normality test statistics is {0} and p value is {1}\".format(norm_stats[0], norm_stats[1]))\n",
    "\n",
    "jb_stats = jarque_bera(reading_score_boxcox)\n",
    "norm_stats = normaltest(reading_score_boxcox)\n",
    "\n",
    "print(\"Jarque-Bera test statistics is {0} and p value is {1}\".format(jb_stats[0], jb_stats[1]))\n",
    "print(\"Normality test statistics is {0} and p value is {1}\".format(norm_stats[0], norm_stats[1]))\n",
    "\n",
    "jb_stats = jarque_bera(writing_score_boxcox)\n",
    "norm_stats = normaltest(writing_score_boxcox)\n",
    "\n",
    "print(\"Jarque-Bera test statistics is {0} and p value is {1}\".format(jb_stats[0], jb_stats[1]))\n",
    "print(\"Normality test statistics is {0} and p value is {1}\".format(norm_stats[0], norm_stats[1]))"
   ]
  },
  {
   "cell_type": "markdown",
   "metadata": {},
   "source": [
    "**Say we want to use a single variable for the exam scores as our target. For this purpose, create a new variable by taking a weighted average of the exam scores. Check whether this new variable is normally distributed. If it's not normally distributed, apply a Box-Cox transformation and check whether or not the transformed variable is normally distributed.**"
   ]
  },
  {
   "cell_type": "code",
   "execution_count": 35,
   "metadata": {},
   "outputs": [],
   "source": [
    "student_df['weighted_avg'] = (student_df['math score'] + student_df['reading score'] + student_df['writing score'])/3"
   ]
  },
  {
   "cell_type": "code",
   "execution_count": 36,
   "metadata": {},
   "outputs": [
    {
     "data": {
      "text/html": [
       "<div>\n",
       "<style scoped>\n",
       "    .dataframe tbody tr th:only-of-type {\n",
       "        vertical-align: middle;\n",
       "    }\n",
       "\n",
       "    .dataframe tbody tr th {\n",
       "        vertical-align: top;\n",
       "    }\n",
       "\n",
       "    .dataframe thead th {\n",
       "        text-align: right;\n",
       "    }\n",
       "</style>\n",
       "<table border=\"1\" class=\"dataframe\">\n",
       "  <thead>\n",
       "    <tr style=\"text-align: right;\">\n",
       "      <th></th>\n",
       "      <th>gender</th>\n",
       "      <th>race/ethnicity</th>\n",
       "      <th>parental level of education</th>\n",
       "      <th>lunch</th>\n",
       "      <th>test preparation course</th>\n",
       "      <th>math score</th>\n",
       "      <th>reading score</th>\n",
       "      <th>writing score</th>\n",
       "      <th>weighted_avg</th>\n",
       "    </tr>\n",
       "  </thead>\n",
       "  <tbody>\n",
       "    <tr>\n",
       "      <th>0</th>\n",
       "      <td>female</td>\n",
       "      <td>group B</td>\n",
       "      <td>bachelor's degree</td>\n",
       "      <td>standard</td>\n",
       "      <td>none</td>\n",
       "      <td>72</td>\n",
       "      <td>72</td>\n",
       "      <td>74</td>\n",
       "      <td>72.666667</td>\n",
       "    </tr>\n",
       "    <tr>\n",
       "      <th>1</th>\n",
       "      <td>female</td>\n",
       "      <td>group C</td>\n",
       "      <td>some college</td>\n",
       "      <td>standard</td>\n",
       "      <td>completed</td>\n",
       "      <td>69</td>\n",
       "      <td>90</td>\n",
       "      <td>88</td>\n",
       "      <td>82.333333</td>\n",
       "    </tr>\n",
       "    <tr>\n",
       "      <th>2</th>\n",
       "      <td>female</td>\n",
       "      <td>group B</td>\n",
       "      <td>master's degree</td>\n",
       "      <td>standard</td>\n",
       "      <td>none</td>\n",
       "      <td>90</td>\n",
       "      <td>95</td>\n",
       "      <td>93</td>\n",
       "      <td>92.666667</td>\n",
       "    </tr>\n",
       "    <tr>\n",
       "      <th>3</th>\n",
       "      <td>male</td>\n",
       "      <td>group A</td>\n",
       "      <td>associate's degree</td>\n",
       "      <td>free/reduced</td>\n",
       "      <td>none</td>\n",
       "      <td>47</td>\n",
       "      <td>57</td>\n",
       "      <td>44</td>\n",
       "      <td>49.333333</td>\n",
       "    </tr>\n",
       "    <tr>\n",
       "      <th>4</th>\n",
       "      <td>male</td>\n",
       "      <td>group C</td>\n",
       "      <td>some college</td>\n",
       "      <td>standard</td>\n",
       "      <td>none</td>\n",
       "      <td>76</td>\n",
       "      <td>78</td>\n",
       "      <td>75</td>\n",
       "      <td>76.333333</td>\n",
       "    </tr>\n",
       "  </tbody>\n",
       "</table>\n",
       "</div>"
      ],
      "text/plain": [
       "   gender race/ethnicity parental level of education         lunch  \\\n",
       "0  female        group B           bachelor's degree      standard   \n",
       "1  female        group C                some college      standard   \n",
       "2  female        group B             master's degree      standard   \n",
       "3    male        group A          associate's degree  free/reduced   \n",
       "4    male        group C                some college      standard   \n",
       "\n",
       "  test preparation course  math score  reading score  writing score  \\\n",
       "0                    none          72             72             74   \n",
       "1               completed          69             90             88   \n",
       "2                    none          90             95             93   \n",
       "3                    none          47             57             44   \n",
       "4                    none          76             78             75   \n",
       "\n",
       "   weighted_avg  \n",
       "0     72.666667  \n",
       "1     82.333333  \n",
       "2     92.666667  \n",
       "3     49.333333  \n",
       "4     76.333333  "
      ]
     },
     "execution_count": 36,
     "metadata": {},
     "output_type": "execute_result"
    }
   ],
   "source": [
    "student_df.head()"
   ]
  },
  {
   "cell_type": "code",
   "execution_count": 50,
   "metadata": {},
   "outputs": [
    {
     "data": {
      "image/png": "[encoded data removed]",
      "text/plain": [
       "<Figure size 720x432 with 1 Axes>"
      ]
     },
     "metadata": {
      "needs_background": "light"
     },
     "output_type": "display_data"
    },
    {
     "name": "stdout",
     "output_type": "stream",
     "text": [
      "Jarque-Bera test statistics is 15.299648399479786 and p value is 0.0004761278250606793\n",
      "Normality test statistics is 15.039484104419722 and p value is 0.0005422724257804356\n"
     ]
    }
   ],
   "source": [
    "plt.figure(figsize=(10,6))\n",
    "\n",
    "plt.hist(student_df['weighted_avg'])\n",
    "plt.title('Weighted Average of Exam Scores')\n",
    "plt.show()\n",
    "\n",
    "jb_stats = jarque_bera(student_df['weighted_avg'])\n",
    "norm_stats = normaltest(student_df['weighted_avg'])\n",
    "\n",
    "print(\"Jarque-Bera test statistics is {0} and p value is {1}\".format(jb_stats[0], jb_stats[1]))\n",
    "print(\"Normality test statistics is {0} and p value is {1}\".format(norm_stats[0], norm_stats[1]))"
   ]
  },
  {
   "cell_type": "markdown",
   "metadata": {},
   "source": [
    "The new variable is not normally distributed."
   ]
  },
  {
   "cell_type": "code",
   "execution_count": 51,
   "metadata": {},
   "outputs": [
    {
     "data": {
      "image/png": "[encoded data removed]",
      "text/plain": [
       "<Figure size 720x432 with 1 Axes>"
      ]
     },
     "metadata": {
      "needs_background": "light"
     },
     "output_type": "display_data"
    },
    {
     "name": "stdout",
     "output_type": "stream",
     "text": [
      "Jarque-Bera test statistics is 2.4521724525282615 and p value is 0.29343878623193853\n",
      "Normality test statistics is 2.802992852045368 and p value is 0.24622822579114062\n"
     ]
    }
   ],
   "source": [
    "weighted_avg_boxcox,_ = boxcox(student_df[\"weighted_avg\"])\n",
    "\n",
    "plt.figure(figsize=(10,6))\n",
    "\n",
    "plt.hist(weighted_avg_boxcox)\n",
    "plt.title('Weighted Average of Exam Scores (Boxcox)')\n",
    "plt.show()\n",
    "\n",
    "jb_stats = jarque_bera(weighted_avg_boxcox)\n",
    "norm_stats = normaltest(weighted_avg_boxcox)\n",
    "\n",
    "print(\"Jarque-Bera test statistics is {0} and p value is {1}\".format(jb_stats[0], jb_stats[1]))\n",
    "print(\"Normality test statistics is {0} and p value is {1}\".format(norm_stats[0], norm_stats[1]))"
   ]
  },
  {
   "cell_type": "markdown",
   "metadata": {},
   "source": [
    "After we applied Box-Cox transformation, the transformed variable is now normally distributed. Jarque-Bera and Normal tests also confirm this."
   ]
  },
  {
   "cell_type": "markdown",
   "metadata": {},
   "source": [
    "**Which variables seem related to the target variable (the newly created variable in the previous question)? If our goal is to explain the determinants of success in exams, which variables in our dataset might be useful?**"
   ]
  },
  {
   "cell_type": "code",
   "execution_count": 43,
   "metadata": {},
   "outputs": [
    {
     "data": {
      "image/png": "[encoded data removed]",
      "text/plain": [
       "<Figure size 1296x864 with 5 Axes>"
      ]
     },
     "metadata": {
      "needs_background": "light"
     },
     "output_type": "display_data"
    }
   ],
   "source": [
    "plt.figure(figsize=(18,12))\n",
    "\n",
    "plt.subplot(2,3,1)\n",
    "sns.barplot(student_df['gender'], student_df['weighted_avg'])\n",
    "plt.title('Weighted Score by Gender')\n",
    "\n",
    "plt.subplot(2,3,2)\n",
    "sns.barplot(student_df['race/ethnicity'], student_df['weighted_avg'])\n",
    "plt.title('Weighted Score by race/ethnicity')\n",
    "\n",
    "plt.subplot(2,3,3)\n",
    "sns.barplot(student_df['parental level of education'], student_df['weighted_avg'])\n",
    "plt.title('Weighted Score by parental lvl of education')\n",
    "plt.xticks(rotation=45)\n",
    "\n",
    "plt.subplot(2,3,4)\n",
    "sns.barplot(student_df['lunch'], student_df['weighted_avg'])\n",
    "plt.title('Weighted Score by lunch type')\n",
    "\n",
    "plt.subplot(2,3,5)\n",
    "sns.barplot(student_df['test preparation course'], student_df['weighted_avg'])\n",
    "plt.title('Weighted Score by test prep course')\n",
    "\n",
    "plt.show()"
   ]
  },
  {
   "cell_type": "code",
   "execution_count": 44,
   "metadata": {},
   "outputs": [
    {
     "name": "stdout",
     "output_type": "stream",
     "text": [
      "------------------------------------------------\n",
      "Comparisons for variable: weighted_avg\n",
      "------------------------------------------------\n",
      "t-test between groups female and male:\n",
      "Ttest_indResult(statistic=4.171053325796944, pvalue=3.2957326127100595e-05)\n"
     ]
    }
   ],
   "source": [
    "# Test whether group differences in gender are significant.\n",
    "gender = student_df[\"gender\"].unique()\n",
    "grouped_df = student_df.groupby(\"gender\")\n",
    "for var in [\"weighted_avg\"]:\n",
    "    print(\"------------------------------------------------\")\n",
    "    print(\"Comparisons for variable: {}\".format(var))\n",
    "    print(\"------------------------------------------------\")\n",
    "    for i in range(0, len(gender)):\n",
    "        for j in range(i+1, len(gender)):\n",
    "            print(\"t-test between groups {0} and {1}:\".format(gender[i], gender[j]))\n",
    "            print(stats.ttest_ind(\n",
    "                student_df[student_df[\"gender\"]==gender[i]][var], \n",
    "                student_df[student_df[\"gender\"]==gender[j]][var]\n",
    "            ))"
   ]
  },
  {
   "cell_type": "code",
   "execution_count": 45,
   "metadata": {},
   "outputs": [
    {
     "name": "stdout",
     "output_type": "stream",
     "text": [
      "------------------------------------------------\n",
      "Comparisons for variable: weighted_avg\n",
      "------------------------------------------------\n",
      "t-test between groups group B and group C:\n",
      "Ttest_indResult(statistic=-1.2792916499151854, pvalue=0.20137953396368105)\n",
      "t-test between groups group B and group A:\n",
      "Ttest_indResult(statistic=1.3165043669633527, pvalue=0.1890930589509443)\n",
      "t-test between groups group B and group D:\n",
      "Ttest_indResult(statistic=-2.8031083992077255, pvalue=0.005279949204374891)\n",
      "t-test between groups group B and group E:\n",
      "Ttest_indResult(statistic=-4.46037807261396, pvalue=1.1254806793764281e-05)\n",
      "t-test between groups group C and group A:\n",
      "Ttest_indResult(statistic=2.4678153289736646, pvalue=0.01400544509418023)\n",
      "t-test between groups group C and group D:\n",
      "Ttest_indResult(statistic=-1.805761931098656, pvalue=0.07147476028471314)\n",
      "t-test between groups group C and group E:\n",
      "Ttest_indResult(statistic=-3.9359759707094657, pvalue=9.576071038206596e-05)\n",
      "t-test between groups group A and group D:\n",
      "Ttest_indResult(statistic=-3.7179415923386636, pvalue=0.00023390416748799778)\n",
      "t-test between groups group A and group E:\n",
      "Ttest_indResult(statistic=-4.958668289961606, pvalue=1.389791046951768e-06)\n",
      "t-test between groups group D and group E:\n",
      "Ttest_indResult(statistic=-2.4870480585806196, pvalue=0.013287580176112115)\n"
     ]
    }
   ],
   "source": [
    "# Test whether group differences in race/ethnicity are significant.\n",
    "ethnicity = student_df[\"race/ethnicity\"].unique()\n",
    "grouped_df = student_df.groupby(\"race/ethnicity\")\n",
    "for var in [\"weighted_avg\"]:\n",
    "    print(\"------------------------------------------------\")\n",
    "    print(\"Comparisons for variable: {}\".format(var))\n",
    "    print(\"------------------------------------------------\")\n",
    "    for i in range(0, len(ethnicity)):\n",
    "        for j in range(i+1, len(ethnicity)):\n",
    "            print(\"t-test between groups {0} and {1}:\".format(ethnicity[i], ethnicity[j]))\n",
    "            print(stats.ttest_ind(\n",
    "                student_df[student_df[\"race/ethnicity\"]==ethnicity[i]][var], \n",
    "                student_df[student_df[\"race/ethnicity\"]==ethnicity[j]][var]\n",
    "            ))"
   ]
  },
  {
   "cell_type": "code",
   "execution_count": 46,
   "metadata": {},
   "outputs": [
    {
     "name": "stdout",
     "output_type": "stream",
     "text": [
      "------------------------------------------------\n",
      "Comparisons for variable: weighted_avg\n",
      "------------------------------------------------\n",
      "t-test between groups bachelor's degree and some college:\n",
      "Ttest_indResult(statistic=2.200746866670862, pvalue=0.028421853941795295)\n",
      "t-test between groups bachelor's degree and master's degree:\n",
      "Ttest_indResult(statistic=-0.7594769500339048, pvalue=0.4485891321202008)\n",
      "t-test between groups bachelor's degree and associate's degree:\n",
      "Ttest_indResult(statistic=1.5013009645983189, pvalue=0.13421131516223408)\n",
      "t-test between groups bachelor's degree and high school:\n",
      "Ttest_indResult(statistic=5.539323736236874, pvalue=6.457780161976827e-08)\n",
      "t-test between groups bachelor's degree and some high school:\n",
      "Ttest_indResult(statistic=3.9419499984338855, pvalue=0.00010099530538860417)\n",
      "t-test between groups some college and master's degree:\n",
      "Ttest_indResult(statistic=-2.5596520690466438, pvalue=0.010997532204148747)\n",
      "t-test between groups some college and associate's degree:\n",
      "Ttest_indResult(statistic=-0.8445790843436104, pvalue=0.3987986989245852)\n",
      "t-test between groups some college and high school:\n",
      "Ttest_indResult(statistic=4.047081496222537, pvalue=6.174004426350981e-05)\n",
      "t-test between groups some college and some high school:\n",
      "Ttest_indResult(statistic=2.3555089299638703, pvalue=0.018975742562764346)\n",
      "t-test between groups master's degree and associate's degree:\n",
      "Ttest_indResult(statistic=2.0146345761094264, pvalue=0.044902247757124626)\n",
      "t-test between groups master's degree and high school:\n",
      "Ttest_indResult(statistic=5.226505457467739, pvalue=3.615968596010533e-07)\n",
      "t-test between groups master's degree and some high school:\n",
      "Ttest_indResult(statistic=3.859728991807858, pvalue=0.00014656872129085855)\n",
      "t-test between groups associate's degree and high school:\n",
      "Ttest_indResult(statistic=4.8568272185010555, pvalue=1.6916651763781133e-06)\n",
      "t-test between groups associate's degree and some high school:\n",
      "Ttest_indResult(statistic=3.1110895395409397, pvalue=0.0019979744080359137)\n",
      "t-test between groups high school and some high school:\n",
      "Ttest_indResult(statistic=-1.3683110078113032, pvalue=0.17203837580119188)\n"
     ]
    }
   ],
   "source": [
    "# Test whether group differences in parental level of education are significant.\n",
    "lvl_education = student_df[\"parental level of education\"].unique()\n",
    "grouped_df = student_df.groupby(\"parental level of education\")\n",
    "for var in [\"weighted_avg\"]:\n",
    "    print(\"------------------------------------------------\")\n",
    "    print(\"Comparisons for variable: {}\".format(var))\n",
    "    print(\"------------------------------------------------\")\n",
    "    for i in range(0, len(lvl_education)):\n",
    "        for j in range(i+1, len(lvl_education)):\n",
    "            print(\"t-test between groups {0} and {1}:\".format(lvl_education[i], lvl_education[j]))\n",
    "            print(stats.ttest_ind(\n",
    "                student_df[student_df[\"parental level of education\"]==lvl_education[i]][var], \n",
    "                student_df[student_df[\"parental level of education\"]==lvl_education[j]][var]\n",
    "            ))"
   ]
  },
  {
   "cell_type": "code",
   "execution_count": 48,
   "metadata": {},
   "outputs": [
    {
     "name": "stdout",
     "output_type": "stream",
     "text": [
      "------------------------------------------------\n",
      "Comparisons for variable: weighted_avg\n",
      "------------------------------------------------\n",
      "t-test between groups standard and free/reduced:\n",
      "Ttest_indResult(statistic=9.574982380767507, pvalue=7.745757182670126e-21)\n"
     ]
    }
   ],
   "source": [
    "# Test whether group differences in parental level of education are significant.\n",
    "lunch = student_df[\"lunch\"].unique()\n",
    "grouped_df = student_df.groupby(\"lunch\")\n",
    "for var in [\"weighted_avg\"]:\n",
    "    print(\"------------------------------------------------\")\n",
    "    print(\"Comparisons for variable: {}\".format(var))\n",
    "    print(\"------------------------------------------------\")\n",
    "    for i in range(0, len(lunch)):\n",
    "        for j in range(i+1, len(lunch)):\n",
    "            print(\"t-test between groups {0} and {1}:\".format(lunch[i], lunch[j]))\n",
    "            print(stats.ttest_ind(\n",
    "                student_df[student_df[\"lunch\"]==lunch[i]][var], \n",
    "                student_df[student_df[\"lunch\"]==lunch[j]][var]\n",
    "            ))"
   ]
  },
  {
   "cell_type": "code",
   "execution_count": 49,
   "metadata": {},
   "outputs": [
    {
     "name": "stdout",
     "output_type": "stream",
     "text": [
      "------------------------------------------------\n",
      "Comparisons for variable: weighted_avg\n",
      "------------------------------------------------\n",
      "t-test between groups none and completed:\n",
      "Ttest_indResult(statistic=-8.391197414595661, pvalue=1.6304993260896713e-16)\n"
     ]
    }
   ],
   "source": [
    "# Test whether group differences in parental level of education are significant.\n",
    "test_prep = student_df[\"test preparation course\"].unique()\n",
    "grouped_df = student_df.groupby(\"test preparation course\")\n",
    "for var in [\"weighted_avg\"]:\n",
    "    print(\"------------------------------------------------\")\n",
    "    print(\"Comparisons for variable: {}\".format(var))\n",
    "    print(\"------------------------------------------------\")\n",
    "    for i in range(0, len(test_prep)):\n",
    "        for j in range(i+1, len(test_prep)):\n",
    "            print(\"t-test between groups {0} and {1}:\".format(test_prep[i], test_prep[j]))\n",
    "            print(stats.ttest_ind(\n",
    "                student_df[student_df[\"test preparation course\"]==test_prep[i]][var], \n",
    "                student_df[student_df[\"test preparation course\"]==test_prep[j]][var]\n",
    "            ))"
   ]
  },
  {
   "cell_type": "markdown",
   "metadata": {},
   "source": [
    "The most significant categorical variables that relate to the target variable are test prep course and lunch type."
   ]
  },
  {
   "cell_type": "markdown",
   "metadata": {},
   "source": [
    "**SOLUTIONS RESULTS TO QUESTION 3**"
   ]
  },
  {
   "cell_type": "code",
   "execution_count": 57,
   "metadata": {},
   "outputs": [
    {
     "data": {
      "image/png": "[encoded data removed]",
      "text/plain": [
       "<Figure size 1296x720 with 5 Axes>"
      ]
     },
     "metadata": {
      "needs_background": "light"
     },
     "output_type": "display_data"
    }
   ],
   "source": [
    "exam_score = (student_df[\"math score\"] +\n",
    "              student_df[\"reading score\"] + student_df[\"writing score\"])/3\n",
    "\n",
    "student_df[\"weighted_avg\"] = exam_score\n",
    "\n",
    "plt.figure(figsize=(18, 10))\n",
    "\n",
    "plt.subplot(2, 3, 1)\n",
    "plt.bar(student_df.groupby(\"race/ethnicity\")\n",
    "        [\"weighted_avg\"].mean().index, student_df.groupby(\"race/ethnicity\")[\"weighted_avg\"].mean())\n",
    "\n",
    "plt.title(\"average exam scores wrt. race/ethnicity\")\n",
    "plt.xticks(rotation=\"vertical\")\n",
    "\n",
    "plt.subplot(2, 3, 2)\n",
    "plt.bar(student_df.groupby(\"gender\")\n",
    "        [\"weighted_avg\"].mean().index, student_df.groupby(\"gender\")[\"weighted_avg\"].mean())\n",
    "\n",
    "plt.title(\"average exam scores wrt. gender\")\n",
    "plt.xticks(rotation=\"vertical\")\n",
    "\n",
    "plt.subplot(2, 3, 3)\n",
    "plt.bar(student_df.groupby(\"parental level of education\")\n",
    "        [\"weighted_avg\"].mean().index, student_df.groupby(\"parental level of education\")[\"weighted_avg\"].mean())\n",
    "\n",
    "plt.title(\"average exam scores wrt. parental level of education\")\n",
    "plt.xticks(rotation=\"vertical\")\n",
    "\n",
    "plt.subplot(2, 3, 4)\n",
    "plt.bar(student_df.groupby(\"lunch\")\n",
    "        [\"weighted_avg\"].mean().index, student_df.groupby(\"lunch\")[\"weighted_avg\"].mean())\n",
    "\n",
    "plt.title(\"average exam scores wrt. lunch\")\n",
    "plt.xticks(rotation=\"vertical\")\n",
    "\n",
    "plt.subplot(2, 3, 5)\n",
    "plt.bar(student_df.groupby(\"test preparation course\")\n",
    "        [\"weighted_avg\"].mean().index, student_df.groupby(\"test preparation course\")[\"weighted_avg\"].mean())\n",
    "\n",
    "plt.title(\"average exam scores wrt. test preparation course\")\n",
    "plt.xticks(rotation=\"vertical\")\n",
    "\n",
    "plt.tight_layout()\n",
    "plt.show()"
   ]
  },
  {
   "cell_type": "markdown",
   "metadata": {},
   "source": [
    "1. Average exam score increases from group A to group E. Hence race/ethnicity may play an important role in explaining the successes in the exams.\n",
    "\n",
    "2. Female students seem to be more successful than the males.\n",
    "\n",
    "3. There is also some variation between the parental levels of education with respect to the exam scores.\n",
    "\n",
    "4. Lunch type also exhibits variance in the average exam scores. But, this is probably not because of the lunch type itself but because of something that affects both the lunch type and the exam scores.\n",
    "\n",
    "5. Those who completed the test preparation course seem to be more successful than the others.\n",
    "\n",
    "Considering all these, all variables might be used in explaining the success in the exams but the lunch variable should be used precautiously."
   ]
  },
  {
   "cell_type": "code",
   "execution_count": null,
   "metadata": {},
   "outputs": [],
   "source": []
  }
 ],
 "metadata": {
  "kernelspec": {
   "display_name": "Python 3",
   "language": "python",
   "name": "python3"
  },
  "language_info": {
   "codemirror_mode": {
    "name": "ipython",
    "version": 3
   },
   "file_extension": ".py",
   "mimetype": "text/x-python",
   "name": "python",
   "nbconvert_exporter": "python",
   "pygments_lexer": "ipython3",
   "version": "3.7.3"
  }
 },
 "nbformat": 4,
 "nbformat_minor": 2
}
